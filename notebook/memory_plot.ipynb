{
 "cells": [
  {
   "cell_type": "code",
   "execution_count": null,
   "metadata": {},
   "outputs": [],
   "source": [
    "import pandas as pd\n",
    "import matplotlib.pyplot as plt\n",
    "import numpy as np"
   ]
  },
  {
   "cell_type": "code",
   "execution_count": null,
   "metadata": {},
   "outputs": [],
   "source": [
    "# Read the memory log\n",
    "memory = pd.read_csv('../dpss_memory_log.txt', sep=r'\\s+', skiprows=1, header=None)"
   ]
  },
  {
   "cell_type": "code",
   "execution_count": null,
   "metadata": {},
   "outputs": [],
   "source": [
    "memory.columns = ['date', 'time', 'bytes', 'size', 'size_unit']\n",
    "memory = memory.drop(['size', 'size_unit'], axis=1).set_index(pd.to_datetime(memory['date'] + ' ' + memory['time'])).drop(['date', 'time'], axis=1)"
   ]
  },
  {
   "cell_type": "code",
   "execution_count": null,
   "metadata": {},
   "outputs": [],
   "source": [
    "memory.head()"
   ]
  },
  {
   "cell_type": "code",
   "execution_count": null,
   "metadata": {},
   "outputs": [],
   "source": [
    "# Plot with time as X-axis\n",
    "memory.plot(figsize=(20,6))"
   ]
  },
  {
   "cell_type": "code",
   "execution_count": null,
   "metadata": {},
   "outputs": [],
   "source": [
    "main_log = pd.read_csv('../dpss_log.txt', sep='\\0', header=None, squeeze=True).str.split(' ', n=2, expand=True)\n",
    "main_log.columns = ['date', 'time', 'message']\n",
    "main_log = main_log[main_log['date'].str.match(r'\\d{4}-\\d{2}-\\d{2}')]\n",
    "main_log = main_log.set_index(pd.to_datetime(main_log['date'] + ' ' + main_log['time'])).drop(['date', 'time'], axis=1)\n",
    "\n",
    "# drop duplcated time indices\n",
    "main_log = main_log[~main_log.index.duplicated(keep='first')]\n",
    "main_log.head()"
   ]
  },
  {
   "cell_type": "code",
   "execution_count": null,
   "metadata": {},
   "outputs": [],
   "source": [
    "# Filter entries before/after last memory interval\n",
    "start, stop = memory.index.min(), memory.index.max()\n",
    "main_log = main_log[main_log.index.map(lambda dt: start <= dt <= stop)]"
   ]
  },
  {
   "cell_type": "code",
   "execution_count": null,
   "metadata": {},
   "outputs": [],
   "source": [
    "indices = [(dt, memory.index.searchsorted(dt)) for dt in main_log.index]\n",
    "points = {x: memory.iloc[i]['bytes'] for (x, i) in indices}\n",
    "annotations = {x: main_log.loc[x, 'message'] for x in points}"
   ]
  },
  {
   "cell_type": "code",
   "execution_count": null,
   "metadata": {},
   "outputs": [],
   "source": [
    "# Add log annotations\n",
    "memory.plot(figsize=(30,6))\n",
    "for (i, (x, y)) in enumerate(points.items()):\n",
    "    plt.plot(x, y, label=f'{i}. {annotations[x]}', c='red')\n",
    "    plt.axvline(x=x, color='red')\n",
    "    plt.annotate(xy=(x,y), s=str(i), ha='center')\n",
    "plt.legend(bbox_to_anchor=(0.75,-0.15))"
   ]
  },
  {
   "cell_type": "code",
   "execution_count": null,
   "metadata": {},
   "outputs": [],
   "source": []
  }
 ],
 "metadata": {
  "kernelspec": {
   "display_name": "Python 3",
   "language": "python",
   "name": "python3"
  },
  "language_info": {
   "codemirror_mode": {
    "name": "ipython",
    "version": 3
   },
   "file_extension": ".py",
   "mimetype": "text/x-python",
   "name": "python",
   "nbconvert_exporter": "python",
   "pygments_lexer": "ipython3",
   "version": "3.6.9"
  }
 },
 "nbformat": 4,
 "nbformat_minor": 2
}
